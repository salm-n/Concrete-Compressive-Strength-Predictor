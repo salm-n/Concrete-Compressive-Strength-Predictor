{
 "cells": [
  {
   "cell_type": "markdown",
   "id": "9720c63e",
   "metadata": {},
   "source": [
    "# 2023/2024 Coding Challenge: \"Concrete rules\"\n",
    "\n",
    "> This year, the coding challenge will be to use real-world data to build and validate a Machine Learning model to **predict the compressive strength of concrete**, one of the most important construction materials in the world!"
   ]
  },
  {
   "cell_type": "markdown",
   "id": "c2c7b75c",
   "metadata": {},
   "source": [
    "## 1. Context and Scope of the Challenge\n",
    "\n",
    "Concrete is of huge important in constructions and possibly one of the most used materials in the world on a weigth basis. It is also, unfortunately, one of the biggest contributors to pollution. However (at least until now), its incredible properties mean it will remain the go-to material for construction for some time.\n",
    "\n",
    "The compressive strength of concrete is one of its key features and depends in a highly nonlinear way on a relative number of variables, including its exact composition, ageing, or the amount of water contained. Predicting how the compressive strength depends on these variables is extremely important for a variety of processes as well as to optimise concrete for a specific application while also reducing its cost (and, ideally, its environmental impact).\n",
    "\n",
    "You groups, made of material science experts, has been tasked by a large construction company, **ConcreteRules.ltd**, to come up with a Machine Learning approach that provides the most accurate prediction for the compressive strength of a given sample. The company is offering you to use their database (you can find it in the `Concrete_database.csv` file ) gathered through years of experiments via an academic collaboration, you can see more about the database at the end.  \n",
    "\n",
    "Apart from predicting the compressive strength, **ConcreteRules.ltd** would also like to understand what, if any, consitutes the most critical variable whose value must be known to obtain a decent prediction. This request arises because some of these values are difficult to measure (especially for old samples that have already been prepared) and, in some cases, require complex and expensive experiments that they would like to minimise."
   ]
  },
  {
   "cell_type": "markdown",
   "id": "0a214f32",
   "metadata": {},
   "source": [
    "## 2. A few details / tips\n",
    "\n",
    "In solving this challenge, consider the following steps:\n",
    "\n",
    "1. **Check if you need to do any pre-processing on the data** (cleaning, encoding, ...). In doing this, also ask yourself: are all the features necessary at all for predicting the compressive strength, or should some of them be removed altogether because they are physically irrelevant and could bias results? If some features are missing for a given sample, should you replace them with an average value, or simply remove that feature altogether?\n",
    "\n",
    "2. Build your regressor using sci-kit learn functionalities. This mean you will have to **rationally choose a type of regression algorithm** based on the data and problem provided, split the data, do training and testing, and analyse the results of the choices of the hyper-parameters, if you have any. You will also need to comment on the choice of the algorithm, and justify the choice of parameters with an analysis of their effect.\n",
    "\n",
    "3. Finally, you will need to use what you have done in step 1) and 2) to **identify the single feature that is most important to obtain a good prediction**. More precisely, identify which feature, if taken out of the classifier, would decrease the predictivity of the classifier the most. This last part should be summarised in an interactive graph, whereby a user can click a button to see the effect of removing any particular feature. \n"
   ]
  },
  {
   "cell_type": "markdown",
   "id": "d080d4eb",
   "metadata": {},
   "source": [
    "## 3. Practicalities\n",
    "\n",
    "### 3.1 Output requested\n",
    "\n",
    "You will have to both provide a code in the form of a **Jupyter Notebook**. This notebook must contain:\n",
    "\n",
    "1) The code implementing the algorithm (this include pre-processing, training, testing and so on).  \n",
    "2) A second part with an analysis of the predictivity of your algorithm, depending on the choices made for the various hyper-parameters that you can use  \n",
    "3) An interactive graph that summarises the relative importance of different variables (see below for details)  \n",
    "\n",
    "You can provide the 3 parts as a single or multiple notebooks, it is up to you. For those who prefer to work in \"pure Python\", you can also provide a code in .py format (in practice, a text file), so that it can be simply run from a Unix Terminal by typing python NameOfFile.py. If you don't know what this last part means...don't worry & just work on Jupyter Notebooks, it is actually the preferred option (but no deduction if you choose otherwise).\n",
    "\n",
    "**Tip**: you can use a series of Markdown and Code cells in Jupyter Notebooks to add report-like comments detailing the choices made and the reason behind them, when necessary. Markdown is the syntax used to generate these notes, you can find it here[https://www.makeuseof.com/tag/learning-markdown-write-web-faster/] \n",
    "\n",
    "\n",
    "### 3.2 Submission \n",
    "\n",
    "A single submission per group is necessary. The submission must be done via Blackboard, following the usual guidelines. Submission deadline and penalties for late submission are specified in your year's Handbook.\n",
    "\n",
    "\n",
    "### 3.3 Marking\n",
    "\n",
    "Coding is a collaborative effort and **all members of the group will receive exactly the same mark**, so everybody is responsible for the work of everybody in the group. There is a single exception to this rule, when a person clearly does not contribute at all. In this case, this person will be given a 0 Mark, and fail.\n",
    "\n",
    "The marking will be based on the following 5 criteria, each weighting the same:\n",
    "\n",
    "1. Correct use of Python and its common functionalities\n",
    "2. Readability & *Ae*sthetic of the code: adding comments when needed, detailing functions with help strings, use of the correct structures / classes, use of annotations,...\n",
    "3. Use of the correct functionalities in the packages covered during the lectures, especially regarding `sci-kit learn`\n",
    "4. Correct implementation of the pipeline to build and assess a ML algorithm\n",
    "5. Presentation and correctness of results"
   ]
  },
  {
   "cell_type": "markdown",
   "id": "88efcbc2",
   "metadata": {},
   "source": [
    "## 4. Final Remark\n",
    "\n",
    "Remember that if you need to ask questions you can access your GTA during the workshop. They will be available during standard workshop days for the whole 3 hours.<br>\n",
    "\n",
    "**Good luck and enjoy this year's challenge!**"
   ]
  },
  {
   "cell_type": "markdown",
   "id": "ef929a56",
   "metadata": {},
   "source": [
    "# Some extra info about the dataset\n",
    "\n",
    "\n",
    "## Content\n",
    "\n",
    "- Concrete Compressive Strength Data Set  \n",
    "- Data Set Information:  \n",
    "  - Number of instances 1030  \n",
    "  - Number of Attributes 9  \n",
    "  - Attribute breakdown: 8 quantitative input variables, and 1 quantitative output variable  \n",
    "  - Missing Attribute Values (Check)  \n",
    "\n",
    "## Attribute Information:\n",
    "Given are the variable name, variable type, the measurement unit and a brief description. The concrete compressive strength is the regression problem (i.e., the quantity we need to predict). The order of this listing corresponds to the order of numerals along the rows of the database.  \n",
    "\n",
    "Name -- Data Type -- Measurement -- Description  \n",
    "\n",
    "- Cement (component 1) -- quantitative -- kg in a m3 mixture -- Input Variable\n",
    "- Blast Furnace Slag (component 2) -- quantitative -- kg in a m3 mixture -- Input Variable\n",
    "- Fly Ash (component 3) -- quantitative -- kg in a m3 mixture -- Input Variable\n",
    "- Water (component 4) -- quantitative -- kg in a m3 mixture -- Input Variable\n",
    "- Superplasticizer (component 5) -- quantitative -- kg in a m3 mixture -- Input Variable\n",
    "- Coarse Aggregate (component 6) -- quantitative -- kg in a m3 mixture -- Input Variable\n",
    "- Fine Aggregate (component 7) -- quantitative -- kg in a m3 mixture -- Input Variable\n",
    "- Age -- quantitative -- Day (1~365) -- Input Variable\n",
    "- Concrete compressive strength -- quantitative -- MPa -- Output Variable\n",
    "\n",
    "Acknowledgements\n",
    "Source: Prof. I-Cheng Yeh, Department of Information Management, Chung-Hua University,\n",
    "Hsin Chu, Taiwan. e-mail:icyeh '@' chu.edu.tw\n",
    "\n",
    "From: https://archive.ics.uci.edu/ml/datasets/Concrete+Compressive+Stren"
   ]
  },
  {
   "cell_type": "code",
   "execution_count": null,
   "id": "50c141c6-4a03-4f49-b076-29b2fb8124f7",
   "metadata": {},
   "outputs": [],
   "source": []
  }
 ],
 "metadata": {
  "kernelspec": {
   "display_name": "Python 3 (ipykernel)",
   "language": "python",
   "name": "python3"
  },
  "language_info": {
   "codemirror_mode": {
    "name": "ipython",
    "version": 3
   },
   "file_extension": ".py",
   "mimetype": "text/x-python",
   "name": "python",
   "nbconvert_exporter": "python",
   "pygments_lexer": "ipython3",
   "version": "3.11.5"
  }
 },
 "nbformat": 4,
 "nbformat_minor": 5
}
